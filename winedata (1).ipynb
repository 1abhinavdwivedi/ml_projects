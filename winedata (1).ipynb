{
 "cells": [
  {
   "cell_type": "code",
   "execution_count": 1,
   "id": "713657c3",
   "metadata": {},
   "outputs": [],
   "source": [
    "import pandas as pd"
   ]
  },
  {
   "cell_type": "code",
   "execution_count": 2,
   "id": "96302f4a",
   "metadata": {},
   "outputs": [],
   "source": [
    "import os"
   ]
  },
  {
   "cell_type": "code",
   "execution_count": 3,
   "id": "73e252d5",
   "metadata": {},
   "outputs": [
    {
     "data": {
      "text/plain": [
       "'/Users/abhinav/Downloads'"
      ]
     },
     "execution_count": 3,
     "metadata": {},
     "output_type": "execute_result"
    }
   ],
   "source": [
    "os.getcwd()"
   ]
  },
  {
   "cell_type": "code",
   "execution_count": 4,
   "id": "36fc2119",
   "metadata": {},
   "outputs": [],
   "source": [
    "df=pd.read_csv('wine.data',names=['class',\"sepal_1\",\"sepal_2\",\"sepal_3\",\"sepal_4\",\"sepal_5\",\"sepal_6\",\"sepal_7\",\"sepal_8\",\"sepal_9\",\"sepal_width\",\"petal_length\",\"petal_width\",\"abc\"])"
   ]
  },
  {
   "cell_type": "code",
   "execution_count": 5,
   "id": "b4d2fdd6",
   "metadata": {},
   "outputs": [
    {
     "data": {
      "text/plain": [
       "(178, 14)"
      ]
     },
     "execution_count": 5,
     "metadata": {},
     "output_type": "execute_result"
    }
   ],
   "source": [
    "df.shape"
   ]
  },
  {
   "cell_type": "code",
   "execution_count": 6,
   "id": "94e83ad6",
   "metadata": {},
   "outputs": [],
   "source": [
    "y= df.iloc[:,:1]"
   ]
  },
  {
   "cell_type": "code",
   "execution_count": 7,
   "id": "237ff8f5",
   "metadata": {},
   "outputs": [],
   "source": [
    "X= df.iloc[:,1:]"
   ]
  },
  {
   "cell_type": "code",
   "execution_count": null,
   "id": "576ed76b",
   "metadata": {},
   "outputs": [],
   "source": []
  },
  {
   "cell_type": "code",
   "execution_count": 8,
   "id": "1dc90102",
   "metadata": {},
   "outputs": [
    {
     "name": "stdout",
     "output_type": "stream",
     "text": [
      "   sepal_1  sepal_2  sepal_3  sepal_4  sepal_5  sepal_6  sepal_7  sepal_8  \\\n",
      "0    14.23     1.71     2.43     15.6      127     2.80     3.06     0.28   \n",
      "1    13.20     1.78     2.14     11.2      100     2.65     2.76     0.26   \n",
      "2    13.16     2.36     2.67     18.6      101     2.80     3.24     0.30   \n",
      "3    14.37     1.95     2.50     16.8      113     3.85     3.49     0.24   \n",
      "4    13.24     2.59     2.87     21.0      118     2.80     2.69     0.39   \n",
      "\n",
      "   sepal_9  sepal_width  petal_length  petal_width   abc  \n",
      "0     2.29         5.64          1.04         3.92  1065  \n",
      "1     1.28         4.38          1.05         3.40  1050  \n",
      "2     2.81         5.68          1.03         3.17  1185  \n",
      "3     2.18         7.80          0.86         3.45  1480  \n",
      "4     1.82         4.32          1.04         2.93   735  \n",
      "   class\n",
      "0      1\n",
      "1      1\n",
      "2      1\n",
      "3      1\n",
      "4      1\n"
     ]
    }
   ],
   "source": [
    "print(X.head())\n",
    "print(y.head())"
   ]
  },
  {
   "cell_type": "code",
   "execution_count": 10,
   "id": "257ca13d",
   "metadata": {},
   "outputs": [],
   "source": [
    "#split dataset into train and test datasets\n",
    "from sklearn.model_selection import train_test_split\n",
    "X_train,X_test,y_train,y_test = train_test_split(X,y,test_size=0.3,random_state=5)"
   ]
  },
  {
   "cell_type": "code",
   "execution_count": 13,
   "id": "cdf3cad2",
   "metadata": {},
   "outputs": [
    {
     "name": "stderr",
     "output_type": "stream",
     "text": [
      "/var/folders/sx/rkl9850d4kgcj_7lqp3jsgs00000gn/T/ipykernel_19258/1032452040.py:5: DataConversionWarning: A column-vector y was passed when a 1d array was expected. Please change the shape of y to (n_samples,), for example using ravel().\n",
      "  rf_model.fit(X_train,y_train)\n"
     ]
    },
    {
     "data": {
      "text/plain": [
       "RandomForestClassifier()"
      ]
     },
     "execution_count": 13,
     "metadata": {},
     "output_type": "execute_result"
    }
   ],
   "source": [
    "#build random forest model\n",
    "\n",
    "from sklearn.ensemble import RandomForestClassifier\n",
    "rf_model=RandomForestClassifier(n_estimators=100)\n",
    "rf_model.fit(X_train,y_train)"
   ]
  },
  {
   "cell_type": "code",
   "execution_count": 15,
   "id": "d8f1d326",
   "metadata": {},
   "outputs": [],
   "source": [
    "y_predict=rf_model.predict(X_test)"
   ]
  },
  {
   "cell_type": "code",
   "execution_count": 16,
   "id": "df6c5f3f",
   "metadata": {},
   "outputs": [
    {
     "name": "stdout",
     "output_type": "stream",
     "text": [
      "accuracy of the model is:  0.9629629629629629\n"
     ]
    }
   ],
   "source": [
    "from sklearn import metrics\n",
    "print(\"accuracy of the model is: \",metrics.accuracy_score(y_test,y_predict))"
   ]
  },
  {
   "cell_type": "code",
   "execution_count": null,
   "id": "f68e03c2",
   "metadata": {},
   "outputs": [],
   "source": []
  }
 ],
 "metadata": {
  "kernelspec": {
   "display_name": "Python 3 (ipykernel)",
   "language": "python",
   "name": "python3"
  },
  "language_info": {
   "codemirror_mode": {
    "name": "ipython",
    "version": 3
   },
   "file_extension": ".py",
   "mimetype": "text/x-python",
   "name": "python",
   "nbconvert_exporter": "python",
   "pygments_lexer": "ipython3",
   "version": "3.9.13"
  }
 },
 "nbformat": 4,
 "nbformat_minor": 5
}
