{
 "cells": [
  {
   "cell_type": "code",
   "execution_count": 5,
   "id": "759c0a87",
   "metadata": {},
   "outputs": [],
   "source": [
    "#numpy\n",
    "\n",
    "import numpy as np\n",
    "l1=3\n",
    "l2=[2,3]\n",
    "n1=np.array(l1)\n",
    "n2=np.array(l2)"
   ]
  },
  {
   "cell_type": "code",
   "execution_count": 7,
   "id": "df40309d",
   "metadata": {},
   "outputs": [
    {
     "name": "stdout",
     "output_type": "stream",
     "text": [
      "<class 'numpy.ndarray'>\n",
      "<class 'numpy.ndarray'>\n",
      "<class 'list'>\n"
     ]
    }
   ],
   "source": [
    "print(type(n1))\n",
    "print(type(n2))\n",
    "print(type(l2))"
   ]
  },
  {
   "cell_type": "code",
   "execution_count": 6,
   "id": "861f6658",
   "metadata": {},
   "outputs": [
    {
     "name": "stdout",
     "output_type": "stream",
     "text": [
      "[2, 3]\n",
      "[2 3]\n"
     ]
    }
   ],
   "source": [
    "print(l2)\n",
    "print(n2)"
   ]
  },
  {
   "cell_type": "code",
   "execution_count": 9,
   "id": "82ca701b",
   "metadata": {},
   "outputs": [
    {
     "name": "stdout",
     "output_type": "stream",
     "text": [
      "[[2 3 5]\n",
      " [3 5 7]]\n"
     ]
    }
   ],
   "source": [
    "#multidimensional array\n",
    "#note:the argument is a list containing two sub-lists\n",
    "#arr1=np.array([[2,3,5], [3,5,7]])\n",
    "l1=[2,3,5]\n",
    "l2=[3,5,7]\n",
    "arr1=np.array([l1, l2])\n",
    "print(arr1)\n",
    "\n"
   ]
  },
  {
   "cell_type": "code",
   "execution_count": 12,
   "id": "3390c60a",
   "metadata": {},
   "outputs": [
    {
     "name": "stdout",
     "output_type": "stream",
     "text": [
      "[[0. 0.]]\n"
     ]
    }
   ],
   "source": [
    "n1= np.zeros((1,2))\n",
    "print(n1)"
   ]
  },
  {
   "cell_type": "code",
   "execution_count": 13,
   "id": "5325f019",
   "metadata": {},
   "outputs": [
    {
     "name": "stdout",
     "output_type": "stream",
     "text": [
      "[[0. 0. 0.]\n",
      " [0. 0. 0.]\n",
      " [0. 0. 0.]]\n"
     ]
    }
   ],
   "source": [
    "n2=np.zeros((3,3))\n",
    "print(n2)"
   ]
  },
  {
   "cell_type": "code",
   "execution_count": 16,
   "id": "c26922d6",
   "metadata": {
    "scrolled": true
   },
   "outputs": [
    {
     "name": "stdout",
     "output_type": "stream",
     "text": [
      "[[10 10]\n",
      " [10 10]]\n"
     ]
    }
   ],
   "source": [
    "n3=np.full((2,2),10)\n",
    "print(n3)"
   ]
  },
  {
   "cell_type": "code",
   "execution_count": 17,
   "id": "ae7d7270",
   "metadata": {},
   "outputs": [
    {
     "name": "stdout",
     "output_type": "stream",
     "text": [
      "[10 11 12 13 14 15 16 17 18 19]\n"
     ]
    }
   ],
   "source": [
    "#initialize array with a range of numbers\n",
    "#1st argument is including and 2nd argument is excluding\n",
    "n3=np.arange(10,20)\n",
    "print(n3)"
   ]
  },
  {
   "cell_type": "code",
   "execution_count": 20,
   "id": "95cbee44",
   "metadata": {},
   "outputs": [
    {
     "name": "stdout",
     "output_type": "stream",
     "text": [
      "[10 12 14 16 18 20 22 24 26 28]\n"
     ]
    }
   ],
   "source": [
    "#specifying step size for initializing\n",
    "n4=np.arange(10,30,2)\n",
    "print(n4)"
   ]
  },
  {
   "cell_type": "code",
   "execution_count": 24,
   "id": "51201788",
   "metadata": {},
   "outputs": [
    {
     "name": "stdout",
     "output_type": "stream",
     "text": [
      "[ 5 81 54 75  3]\n"
     ]
    }
   ],
   "source": [
    "#initializing with random integers\n",
    "n2=np.random.randint(1,100,5)\n",
    "print(n2)"
   ]
  },
  {
   "cell_type": "code",
   "execution_count": 25,
   "id": "fefb2461",
   "metadata": {},
   "outputs": [],
   "source": [
    "arr1=np.array([[2,3,5],[3,5,7]])"
   ]
  },
  {
   "cell_type": "code",
   "execution_count": 26,
   "id": "b67e34f5",
   "metadata": {},
   "outputs": [
    {
     "name": "stdout",
     "output_type": "stream",
     "text": [
      "[[2 3 5]\n",
      " [3 5 7]]\n"
     ]
    }
   ],
   "source": [
    "print(arr1)"
   ]
  },
  {
   "cell_type": "code",
   "execution_count": 43,
   "id": "0bd84742",
   "metadata": {},
   "outputs": [
    {
     "name": "stdout",
     "output_type": "stream",
     "text": [
      "1\n",
      "(3,)\n",
      "3\n",
      "3\n",
      "[2 3 5]\n"
     ]
    },
    {
     "ename": "ValueError",
     "evalue": "cannot reshape array of size 3 into shape (3,2)",
     "output_type": "error",
     "traceback": [
      "\u001b[0;31m---------------------------------------------------------------------------\u001b[0m",
      "\u001b[0;31mValueError\u001b[0m                                Traceback (most recent call last)",
      "\u001b[0;32m/var/folders/sx/rkl9850d4kgcj_7lqp3jsgs00000gn/T/ipykernel_8283/2028960810.py\u001b[0m in \u001b[0;36m<module>\u001b[0;34m\u001b[0m\n\u001b[1;32m      9\u001b[0m \u001b[0mprint\u001b[0m\u001b[0;34m(\u001b[0m\u001b[0marr1\u001b[0m\u001b[0;34m)\u001b[0m\u001b[0;34m\u001b[0m\u001b[0;34m\u001b[0m\u001b[0m\n\u001b[1;32m     10\u001b[0m \u001b[0;31m#reshape the array\u001b[0m\u001b[0;34m\u001b[0m\u001b[0;34m\u001b[0m\u001b[0m\n\u001b[0;32m---> 11\u001b[0;31m \u001b[0mprint\u001b[0m\u001b[0;34m(\u001b[0m\u001b[0marr1\u001b[0m\u001b[0;34m.\u001b[0m\u001b[0mreshape\u001b[0m\u001b[0;34m(\u001b[0m\u001b[0;34m(\u001b[0m\u001b[0;36m3\u001b[0m\u001b[0;34m,\u001b[0m\u001b[0;36m2\u001b[0m\u001b[0;34m)\u001b[0m\u001b[0;34m)\u001b[0m\u001b[0;34m)\u001b[0m\u001b[0;34m\u001b[0m\u001b[0;34m\u001b[0m\u001b[0m\n\u001b[0m\u001b[1;32m     12\u001b[0m \u001b[0;31m#print(arr1)\u001b[0m\u001b[0;34m\u001b[0m\u001b[0;34m\u001b[0m\u001b[0m\n\u001b[1;32m     13\u001b[0m \u001b[0mprint\u001b[0m\u001b[0;34m(\u001b[0m\u001b[0mlen\u001b[0m\u001b[0;34m(\u001b[0m\u001b[0marr1\u001b[0m\u001b[0;34m.\u001b[0m\u001b[0mreshape\u001b[0m\u001b[0;34m(\u001b[0m\u001b[0;34m(\u001b[0m\u001b[0;36m4\u001b[0m\u001b[0;34m,\u001b[0m\u001b[0;36m2\u001b[0m\u001b[0;34m)\u001b[0m\u001b[0;34m)\u001b[0m\u001b[0;34m)\u001b[0m\u001b[0;34m)\u001b[0m\u001b[0;34m\u001b[0m\u001b[0;34m\u001b[0m\u001b[0m\n",
      "\u001b[0;31mValueError\u001b[0m: cannot reshape array of size 3 into shape (3,2)"
     ]
    }
   ],
   "source": [
    "#no of dimensions\n",
    "print(arr1.ndim)\n",
    "#shape of array\n",
    "print(arr1.shape)\n",
    "#no. of elements\n",
    "print(arr1.size)\n",
    "#length of first dimension\n",
    "print(len(arr1))\n",
    "print(arr1)\n",
    "#reshape the array\n",
    "print(arr1.reshape((3,2)))\n",
    "#print(arr1)\n",
    "print(len(arr1.reshape((3,2))))"
   ]
  },
  {
   "cell_type": "code",
   "execution_count": 31,
   "id": "25ec0085",
   "metadata": {},
   "outputs": [
    {
     "data": {
      "text/plain": [
       "100"
      ]
     },
     "execution_count": 31,
     "metadata": {},
     "output_type": "execute_result"
    }
   ],
   "source": [
    "#additon of numpy\n",
    "arr1=np.array([10,20])\n",
    "arr2=np.array([30,40])\n",
    "\n",
    "#arr3=np.array([35,45])\n",
    "np.sum([arr1,arr2])"
   ]
  },
  {
   "cell_type": "code",
   "execution_count": 32,
   "id": "0430b2cd",
   "metadata": {},
   "outputs": [
    {
     "data": {
      "text/plain": [
       "array([40, 60])"
      ]
     },
     "execution_count": 32,
     "metadata": {},
     "output_type": "execute_result"
    }
   ],
   "source": [
    "np.sum([arr1,arr2],axis=0)"
   ]
  },
  {
   "cell_type": "code",
   "execution_count": 33,
   "id": "e386cfa0",
   "metadata": {},
   "outputs": [
    {
     "data": {
      "text/plain": [
       "array([30, 70])"
      ]
     },
     "execution_count": 33,
     "metadata": {},
     "output_type": "execute_result"
    }
   ],
   "source": [
    "np.sum([arr1,arr2],axis=1)"
   ]
  },
  {
   "cell_type": "code",
   "execution_count": 37,
   "id": "84dcc112",
   "metadata": {},
   "outputs": [
    {
     "name": "stdout",
     "output_type": "stream",
     "text": [
      "[[2 3 5]\n",
      " [3 5 6]]\n",
      "\n",
      "[2 3 5 3 5 6]\n",
      "\n",
      "[[2 3]\n",
      " [3 5]\n",
      " [5 6]]\n"
     ]
    }
   ],
   "source": [
    "#joining two array in three different ways\n",
    "#vstack, hstack and column stack\n",
    "arr1=np.array([2,3,5])\n",
    "arr2=np.array([3,5,6])\n",
    "arr3=np.vstack((arr1,arr2))\n",
    "arr4=np.hstack((arr1,arr2))\n",
    "arr5=np.column_stack((arr1,arr2))\n",
    "\n",
    "print(arr3)\n",
    "print()\n",
    "print(arr4)\n",
    "print()\n",
    "print(arr5)"
   ]
  },
  {
   "cell_type": "code",
   "execution_count": null,
   "id": "99156b8b",
   "metadata": {},
   "outputs": [],
   "source": []
  }
 ],
 "metadata": {
  "kernelspec": {
   "display_name": "Python 3 (ipykernel)",
   "language": "python",
   "name": "python3"
  },
  "language_info": {
   "codemirror_mode": {
    "name": "ipython",
    "version": 3
   },
   "file_extension": ".py",
   "mimetype": "text/x-python",
   "name": "python",
   "nbconvert_exporter": "python",
   "pygments_lexer": "ipython3",
   "version": "3.9.13"
  }
 },
 "nbformat": 4,
 "nbformat_minor": 5
}
